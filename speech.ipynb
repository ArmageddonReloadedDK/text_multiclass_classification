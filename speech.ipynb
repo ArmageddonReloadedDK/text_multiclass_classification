{
 "cells": [
  {
   "cell_type": "code",
   "execution_count": null,
   "id": "7e1d91ce",
   "metadata": {},
   "outputs": [],
   "source": [
    "import torch\n",
    "import python_speech_features\n",
    "\n",
    "import librosa\n",
    "import librosa.display\n",
    "\n",
    "import os\n",
    "from matplotlib import pyplot as plt\n",
    "import numpy as np"
   ]
  },
  {
   "cell_type": "markdown",
   "id": "5d09acfc",
   "metadata": {},
   "source": [
    "## Text2speech"
   ]
  },
  {
   "cell_type": "markdown",
   "id": "327ad145",
   "metadata": {},
   "source": [
    "https://github.com/snakers4/silero-models#text-to-speech"
   ]
  },
  {
   "cell_type": "code",
   "execution_count": null,
   "id": "009fd4ad",
   "metadata": {},
   "outputs": [],
   "source": [
    "device = torch.device('cuda')\n",
    "#torch.set_num_threads(4)\n",
    "local_file = 'tts.pt'\n",
    "\n",
    "if not os.path.isfile(local_file):\n",
    "    torch.hub.download_url_to_file('https://models.silero.ai/models/tts/ru/v2_kseniya.pt',\n",
    "                                   local_file)  \n",
    "\n",
    "model = torch.package.PackageImporter(local_file).load_pickle(\"tts_models\", \"model\")\n",
    "model.to(device)\n"
   ]
  },
  {
   "cell_type": "code",
   "execution_count": null,
   "id": "fe4136f3",
   "metadata": {},
   "outputs": [],
   "source": [
    "example_batch = [' В начале сотворил Бог небо и землю. Земля же была безвидна и пуста, и тьма над бездною, и Дух Божий носился над водою.',\n",
    "                 ' И сказал Бог - да будет свет. И стал свет. И увидел Бог свет, что он хорош, и отделил Бог свет от тьмы.',\n",
    "                 ' И назвал Бог свет днем, а тьму ночью. И был вечер, и было утро - день один. ',\n",
    "                 ' И сказал Бог - да будет твердь посреди воды, и да отделяет она воду от воды',\n",
    "                 'И создал Бог твердь, и отделил воду, которая под твердью, от воды, которая над твердью. И стало так.']\n",
    "sample_rate = 16000\n"
   ]
  },
  {
   "cell_type": "code",
   "execution_count": null,
   "id": "f9437370",
   "metadata": {},
   "outputs": [],
   "source": [
    "audio_paths = model.save_wav(texts=example_batch,\n",
    "                             sample_rate=sample_rate,\n",
    "                                        )\n",
    "print(audio_paths)"
   ]
  },
  {
   "cell_type": "code",
   "execution_count": null,
   "id": "5cb85c54",
   "metadata": {},
   "outputs": [],
   "source": [
    "wav=model.apply_tts(texts=example_batch)\n"
   ]
  },
  {
   "cell_type": "code",
   "execution_count": null,
   "id": "404792d5",
   "metadata": {},
   "outputs": [],
   "source": [
    "audio=wav[0].cpu().detach().numpy()\n",
    "mfcc_data = python_speech_features.mfcc(audio, sample_rate * 2, nfft=1103)"
   ]
  },
  {
   "cell_type": "code",
   "execution_count": null,
   "id": "cce7b93f",
   "metadata": {},
   "outputs": [],
   "source": [
    "plt.plot(audio)"
   ]
  },
  {
   "cell_type": "code",
   "execution_count": null,
   "id": "d81de0c7",
   "metadata": {},
   "outputs": [],
   "source": [
    "spec = np.abs(librosa.stft(audio, hop_length=512))\n",
    "spec = librosa.amplitude_to_db(spec, ref=np.max)\n",
    "sr=16000\n",
    "librosa.display.specshow(spec, sr=sr, x_axis='time', y_axis='log');\n",
    "plt.colorbar(format='%+2.0f dB');\n",
    "plt.title('Spectrogram');\n"
   ]
  },
  {
   "cell_type": "code",
   "execution_count": null,
   "id": "9de76eb1",
   "metadata": {},
   "outputs": [],
   "source": [
    "mfcc_data.shape"
   ]
  },
  {
   "cell_type": "code",
   "execution_count": null,
   "id": "eed0fa92",
   "metadata": {},
   "outputs": [],
   "source": [
    "model.write_wave('audio.wav',wav[0].cpu().detach().numpy(),16000)"
   ]
  },
  {
   "cell_type": "markdown",
   "id": "7a7dfede",
   "metadata": {},
   "source": [
    "## Speech2text"
   ]
  },
  {
   "cell_type": "markdown",
   "id": "f67a794b",
   "metadata": {},
   "source": [
    "https://github.com/alphacep/vosk-api"
   ]
  },
  {
   "cell_type": "code",
   "execution_count": 2,
   "id": "f38e2cf8",
   "metadata": {},
   "outputs": [],
   "source": [
    "from vosk import Model, KaldiRecognizer, SetLogLevel\n",
    "import sys\n",
    "import os\n",
    "import wave\n",
    "import subprocess\n",
    "from scipy.io import wavfile\n",
    "import ctypes"
   ]
  },
  {
   "cell_type": "code",
   "execution_count": 3,
   "id": "4770372e",
   "metadata": {},
   "outputs": [],
   "source": [
    "stt_model_path='models/stt'\n",
    "\n",
    "if not os.path.exists(stt_model_path):\n",
    "    print (\"Please download the model from https://alphacephei.com/vosk/models and unpack as 'model' in the current folder.\")\n",
    "\n",
    "else:\n",
    "    stt_model = Model(stt_model_path)"
   ]
  },
  {
   "cell_type": "code",
   "execution_count": 48,
   "id": "240938d6",
   "metadata": {},
   "outputs": [],
   "source": [
    "speech_file='test_000.wav'\n",
    "wf = wave.open(speech_file, \"rb\")"
   ]
  },
  {
   "cell_type": "code",
   "execution_count": 49,
   "id": "0a7b55e0",
   "metadata": {},
   "outputs": [
    {
     "name": "stdout",
     "output_type": "stream",
     "text": [
      "{\n",
      "  \"text\" : \"в начале сотворил бог небо и землю земля же была безвидна и пуста и тьма над бездною и дух божий носился над водою\"\n",
      "}\n",
      "Wall time: 1.16 s\n"
     ]
    }
   ],
   "source": [
    "%%time\n",
    "rec = KaldiRecognizer(stt_model, wf.getframerate())\n",
    "data = wf.readframes(4000000)\n",
    "rec.AcceptWaveform(data)\n",
    "print(rec.FinalResult())"
   ]
  }
 ],
 "metadata": {
  "kernelspec": {
   "display_name": "torch",
   "language": "python",
   "name": "torch"
  },
  "language_info": {
   "codemirror_mode": {
    "name": "ipython",
    "version": 3
   },
   "file_extension": ".py",
   "mimetype": "text/x-python",
   "name": "python",
   "nbconvert_exporter": "python",
   "pygments_lexer": "ipython3",
   "version": "3.8.11"
  }
 },
 "nbformat": 4,
 "nbformat_minor": 5
}
