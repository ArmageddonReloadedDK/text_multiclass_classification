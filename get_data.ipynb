{
 "cells": [
  {
   "cell_type": "code",
   "execution_count": 1,
   "metadata": {},
   "outputs": [],
   "source": [
    "import multiprocessing\n",
    "\n",
    "import requests\n",
    "from bs4 import BeautifulSoup\n",
    "import pandas as pd\n",
    "import numpy as np\n",
    "import pymorphy2\n",
    "\n",
    "import re\n"
   ]
  },
  {
   "cell_type": "code",
   "execution_count": 2,
   "metadata": {},
   "outputs": [],
   "source": [
    "def get_faq(urls,question_data,answer_data):\n",
    "    #\n",
    "    #  urls - list [urls1,urls2,..]\n",
    "    #  question_data, answer_data - list [tag_value,class_value]  \n",
    "    #\n",
    "    #  return faq - list shape (n,2), where [:,0] - question, [:,1] - answer\n",
    "    #\n",
    "    question_tag,question_class=question_data\n",
    "    answer_tag,answer_class=answer_data\n",
    "    \n",
    "    rs =[ requests.get(url) for url in urls]\n",
    "    responses = [r.text.encode('utf-8') for r in rs]\n",
    "    soups = [BeautifulSoup(response) for response in responses]\n",
    "\n",
    "    faq=[]\n",
    "    for soup in soups:\n",
    "        question=soup.findAll(question_tag, class_=question_class)\n",
    "        answer=soup.findAll(answer_tag,class_=answer_class)\n",
    "        temp_questions=[]\n",
    "        temp_answers=[]\n",
    "        for q in question:\n",
    "            txt=str(q.text)\n",
    "            txt=txt.replace('  ','')\n",
    "            txt=txt.replace('\"','')\n",
    "            txt=txt.replace('\t','')\n",
    "            txt=txt.replace('\\n','')\n",
    "            temp_questions.append(txt)\n",
    "        for ans in answer:\n",
    "            txt=str(ans.text)\n",
    "            txt=txt.replace('  ','')\n",
    "            txt=txt.replace('\t','')\n",
    "            txt=txt.replace('\\n','')\n",
    "            temp_answers.append(txt)\n",
    "        \n",
    "        temp_questions=np.array(temp_questions).reshape((-1,1))\n",
    "        temp_answers=np.array(temp_answers).reshape((-1,1))\n",
    "        temp_faq=np.concatenate([temp_questions,temp_answers],axis=1)\n",
    "        faq.append(temp_faq)\n",
    "            \n",
    "\n",
    "    return faq"
   ]
  },
  {
   "cell_type": "code",
   "execution_count": 3,
   "metadata": {},
   "outputs": [],
   "source": [
    "urls1=['https://www.mosenergosbyt.ru/common/lobby/questions/category_5749.php',\n",
    "     'https://www.mosenergosbyt.ru/common/lobby/questions/category_5739.php',\n",
    "     'https://www.mosenergosbyt.ru/common/lobby/questions/category_48100.php',\n",
    "     'https://www.mosenergosbyt.ru/common/lobby/questions/category_48101.php',\n",
    "     'https://www.mosenergosbyt.ru/common/lobby/questions/category_48102.php',\n",
    "     'https://www.mosenergosbyt.ru/common/lobby/questions/category_48103.php',\n",
    "     'https://www.mosenergosbyt.ru/common/lobby/questions/category_5745.php',\n",
    "     'https://www.mosenergosbyt.ru/common/lobby/questions/category_5763.php',\n",
    "     'https://www.mosenergosbyt.ru/common/lobby/questions/category_5754.php',\n",
    "     'https://www.mosenergosbyt.ru/common/lobby/questions/category_5716.php']\n",
    "\n",
    "urls2=['https://mosoblgaz.ru/company/query_answer/']\n",
    "\n",
    "faq1=get_faq(urls1,['button','btn btn-link collapsed'],['div','collapse'])\n",
    "faq2=get_faq(urls2,['div','faq-list-item__title js-accordion-item-title'],\n",
    "             ['div','faq-list-item__text-inner js-accordion-item-inner'])\n"
   ]
  },
  {
   "cell_type": "code",
   "execution_count": null,
   "metadata": {},
   "outputs": [],
   "source": [
    "df=[]\n",
    "for document in faq1:\n",
    "    for line in document:\n",
    "        df.append(line)\n",
    "    \n",
    "\n",
    "df=pd.DataFrame(df,columns = ['Question','Answer'])\n",
    "df.to_csv('faq.csv',index=False,encoding='utf-8')"
   ]
  }
 ],
 "metadata": {
  "kernelspec": {
   "display_name": "torch",
   "language": "python",
   "name": "torch"
  },
  "language_info": {
   "codemirror_mode": {
    "name": "ipython",
    "version": 3
   },
   "file_extension": ".py",
   "mimetype": "text/x-python",
   "name": "python",
   "nbconvert_exporter": "python",
   "pygments_lexer": "ipython3",
   "version": "3.6.13"
  }
 },
 "nbformat": 4,
 "nbformat_minor": 4
}
