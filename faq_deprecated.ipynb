{
 "cells": [
  {
   "cell_type": "code",
   "execution_count": 1,
   "metadata": {},
   "outputs": [],
   "source": [
    "from deeppavlov import build_model, configs,train_model\n",
    "import deeppavlov\n",
    "import numpy as np\n",
    "# need spacy,fasttext\n",
    "from deeppavlov.core.common.file import read_json\n",
    "from nltk.corpus import stopwords\n",
    "import fasttext"
   ]
  },
  {
   "cell_type": "code",
   "execution_count": null,
   "metadata": {},
   "outputs": [],
   "source": [
    "\n",
    "import spacy\n",
    "#spacy.cli.download(\"ru_core_news_sm\")\n",
    "#nlp = spacy.load(\"ru_core_news_sm\")\n",
    "spacy.cli.download(\"en_core_web_sm\")"
   ]
  },
  {
   "cell_type": "markdown",
   "metadata": {},
   "source": [
    "## FAQ model"
   ]
  },
  {
   "cell_type": "code",
   "execution_count": 2,
   "metadata": {},
   "outputs": [
    {
     "data": {
      "text/plain": [
       "Struct({'tfidf_logreg_en_faq': WindowsPath('C:/Users/Администратор/AppData/Roaming/Python/Python37/site-packages/deeppavlov/configs/faq/tfidf_logreg_en_faq.json'),\n",
       "        'fasttext_avg_autofaq': WindowsPath('C:/Users/Администратор/AppData/Roaming/Python/Python37/site-packages/deeppavlov/configs/faq/fasttext_avg_autofaq.json'),\n",
       "        'tfidf_autofaq': WindowsPath('C:/Users/Администратор/AppData/Roaming/Python/Python37/site-packages/deeppavlov/configs/faq/tfidf_autofaq.json'),\n",
       "        'tfidf_logreg_autofaq': WindowsPath('C:/Users/Администратор/AppData/Roaming/Python/Python37/site-packages/deeppavlov/configs/faq/tfidf_logreg_autofaq.json'),\n",
       "        'fasttext_tfidf_autofaq': WindowsPath('C:/Users/Администратор/AppData/Roaming/Python/Python37/site-packages/deeppavlov/configs/faq/fasttext_tfidf_autofaq.json')})"
      ]
     },
     "execution_count": 2,
     "metadata": {},
     "output_type": "execute_result"
    }
   ],
   "source": [
    "configs.faq."
   ]
  },
  {
   "cell_type": "code",
   "execution_count": null,
   "metadata": {},
   "outputs": [],
   "source": [
    "stop_words = stopwords.words('russian')\n",
    "stop_words.extend(['что', 'это', 'так', 'вот', 'быть', 'как', 'в', '—', '–', 'к', 'на', '...'])\n",
    "\n",
    "config_path='configs/fasttext_avg_autofaq.json'\n",
    "model_config = read_json(config_path)\n",
    "\n",
    "model_config[\"chainer\"][\"pipe\"][4][\"warm_start\"] = True\n",
    "model_config[\"chainer\"][\"pipe\"][0][\"stopwords\"] = stop_words\n",
    "model_config[\"dataset_reader\"][\"data_path\"] = \"dataset_vsu_qa.csv\"\n",
    "model_config[\"dataset_reader\"][\"data_url\"] = None\n",
    "\n",
    "model = train_model(model_config,download = True)"
   ]
  },
  {
   "cell_type": "code",
   "execution_count": 19,
   "metadata": {
    "scrolled": true
   },
   "outputs": [
    {
     "ename": "AttributeError",
     "evalue": "'tuple' object has no attribute '__dict__'",
     "output_type": "error",
     "traceback": [
      "\u001b[1;31m---------------------------------------------------------------------------\u001b[0m",
      "\u001b[1;31mAttributeError\u001b[0m                            Traceback (most recent call last)",
      "\u001b[1;32m<ipython-input-18-13fdf5c7659d>\u001b[0m in \u001b[0;36m<module>\u001b[1;34m\u001b[0m\n\u001b[0;32m     19\u001b[0m \u001b[0mmodel_config\u001b[0m\u001b[1;33m[\u001b[0m\u001b[1;34m\"dataset_reader\"\u001b[0m\u001b[1;33m]\u001b[0m\u001b[1;33m[\u001b[0m\u001b[1;34m\"data_url\"\u001b[0m\u001b[1;33m]\u001b[0m \u001b[1;33m=\u001b[0m \u001b[1;32mNone\u001b[0m\u001b[1;33m\u001b[0m\u001b[1;33m\u001b[0m\u001b[0m\n\u001b[0;32m     20\u001b[0m \u001b[1;33m\u001b[0m\u001b[0m\n\u001b[1;32m---> 21\u001b[1;33m \u001b[0mfaq\u001b[0m \u001b[1;33m=\u001b[0m \u001b[0mtrain_model\u001b[0m\u001b[1;33m(\u001b[0m\u001b[0mmodel_config\u001b[0m\u001b[1;33m,\u001b[0m\u001b[0mdownload\u001b[0m \u001b[1;33m=\u001b[0m \u001b[1;32mTrue\u001b[0m\u001b[1;33m)\u001b[0m\u001b[1;33m\u001b[0m\u001b[1;33m\u001b[0m\u001b[0m\n\u001b[0m\u001b[0;32m     22\u001b[0m \u001b[0ma\u001b[0m \u001b[1;33m=\u001b[0m \u001b[0mfaq\u001b[0m\u001b[1;33m(\u001b[0m\u001b[1;33m[\u001b[0m\u001b[1;34m\"что такое вступительные экзамены\"\u001b[0m\u001b[1;33m]\u001b[0m\u001b[1;33m)\u001b[0m\u001b[1;33m\u001b[0m\u001b[1;33m\u001b[0m\u001b[0m\n\u001b[0;32m     23\u001b[0m \u001b[0ma\u001b[0m\u001b[1;33m\u001b[0m\u001b[1;33m\u001b[0m\u001b[0m\n",
      "\u001b[1;32mC:\\Users\\Администратор\\AppData\\Roaming\\Python\\Python37\\site-packages\\deeppavlov\\__init__.py\u001b[0m in \u001b[0;36mtrain_model\u001b[1;34m(config, download, recursive)\u001b[0m\n\u001b[0;32m     27\u001b[0m \u001b[1;31m# TODO: make better\u001b[0m\u001b[1;33m\u001b[0m\u001b[1;33m\u001b[0m\u001b[1;33m\u001b[0m\u001b[0m\n\u001b[0;32m     28\u001b[0m \u001b[1;32mdef\u001b[0m \u001b[0mtrain_model\u001b[0m\u001b[1;33m(\u001b[0m\u001b[0mconfig\u001b[0m\u001b[1;33m:\u001b[0m \u001b[1;33m[\u001b[0m\u001b[0mstr\u001b[0m\u001b[1;33m,\u001b[0m \u001b[0mPath\u001b[0m\u001b[1;33m,\u001b[0m \u001b[0mdict\u001b[0m\u001b[1;33m]\u001b[0m\u001b[1;33m,\u001b[0m \u001b[0mdownload\u001b[0m\u001b[1;33m:\u001b[0m \u001b[0mbool\u001b[0m \u001b[1;33m=\u001b[0m \u001b[1;32mFalse\u001b[0m\u001b[1;33m,\u001b[0m \u001b[0mrecursive\u001b[0m\u001b[1;33m:\u001b[0m \u001b[0mbool\u001b[0m \u001b[1;33m=\u001b[0m \u001b[1;32mFalse\u001b[0m\u001b[1;33m)\u001b[0m \u001b[1;33m->\u001b[0m \u001b[0mChainer\u001b[0m\u001b[1;33m:\u001b[0m\u001b[1;33m\u001b[0m\u001b[1;33m\u001b[0m\u001b[0m\n\u001b[1;32m---> 29\u001b[1;33m     \u001b[0mtrain_evaluate_model_from_config\u001b[0m\u001b[1;33m(\u001b[0m\u001b[0mconfig\u001b[0m\u001b[1;33m,\u001b[0m \u001b[0mdownload\u001b[0m\u001b[1;33m=\u001b[0m\u001b[0mdownload\u001b[0m\u001b[1;33m,\u001b[0m \u001b[0mrecursive\u001b[0m\u001b[1;33m=\u001b[0m\u001b[0mrecursive\u001b[0m\u001b[1;33m)\u001b[0m\u001b[1;33m\u001b[0m\u001b[1;33m\u001b[0m\u001b[0m\n\u001b[0m\u001b[0;32m     30\u001b[0m     \u001b[1;32mreturn\u001b[0m \u001b[0mbuild_model\u001b[0m\u001b[1;33m(\u001b[0m\u001b[0mconfig\u001b[0m\u001b[1;33m,\u001b[0m \u001b[0mload_trained\u001b[0m\u001b[1;33m=\u001b[0m\u001b[1;32mTrue\u001b[0m\u001b[1;33m)\u001b[0m\u001b[1;33m\u001b[0m\u001b[1;33m\u001b[0m\u001b[0m\n\u001b[0;32m     31\u001b[0m \u001b[1;33m\u001b[0m\u001b[0m\n",
      "\u001b[1;32mC:\\Users\\Администратор\\AppData\\Roaming\\Python\\Python37\\site-packages\\deeppavlov\\core\\commands\\train.py\u001b[0m in \u001b[0;36mtrain_evaluate_model_from_config\u001b[1;34m(config, iterator, to_train, evaluation_targets, to_validate, download, start_epoch_num, recursive)\u001b[0m\n\u001b[0;32m    119\u001b[0m \u001b[1;33m\u001b[0m\u001b[0m\n\u001b[0;32m    120\u001b[0m     \u001b[1;32mif\u001b[0m \u001b[0mto_train\u001b[0m\u001b[1;33m:\u001b[0m\u001b[1;33m\u001b[0m\u001b[1;33m\u001b[0m\u001b[0m\n\u001b[1;32m--> 121\u001b[1;33m         \u001b[0mtrainer\u001b[0m\u001b[1;33m.\u001b[0m\u001b[0mtrain\u001b[0m\u001b[1;33m(\u001b[0m\u001b[0miterator\u001b[0m\u001b[1;33m)\u001b[0m\u001b[1;33m\u001b[0m\u001b[1;33m\u001b[0m\u001b[0m\n\u001b[0m\u001b[0;32m    122\u001b[0m \u001b[1;33m\u001b[0m\u001b[0m\n\u001b[0;32m    123\u001b[0m     \u001b[0mres\u001b[0m \u001b[1;33m=\u001b[0m \u001b[1;33m{\u001b[0m\u001b[1;33m}\u001b[0m\u001b[1;33m\u001b[0m\u001b[1;33m\u001b[0m\u001b[0m\n",
      "\u001b[1;32mC:\\Users\\Администратор\\AppData\\Roaming\\Python\\Python37\\site-packages\\deeppavlov\\core\\trainers\\fit_trainer.py\u001b[0m in \u001b[0;36mtrain\u001b[1;34m(self, iterator)\u001b[0m\n\u001b[0;32m    166\u001b[0m     \u001b[1;32mdef\u001b[0m \u001b[0mtrain\u001b[0m\u001b[1;33m(\u001b[0m\u001b[0mself\u001b[0m\u001b[1;33m,\u001b[0m \u001b[0miterator\u001b[0m\u001b[1;33m:\u001b[0m \u001b[0mUnion\u001b[0m\u001b[1;33m[\u001b[0m\u001b[0mDataFittingIterator\u001b[0m\u001b[1;33m,\u001b[0m \u001b[0mDataLearningIterator\u001b[0m\u001b[1;33m]\u001b[0m\u001b[1;33m)\u001b[0m \u001b[1;33m->\u001b[0m \u001b[1;32mNone\u001b[0m\u001b[1;33m:\u001b[0m\u001b[1;33m\u001b[0m\u001b[1;33m\u001b[0m\u001b[0m\n\u001b[0;32m    167\u001b[0m         \u001b[1;34m\"\"\"Calls :meth:`~fit_chainer` with provided data iterator as an argument\"\"\"\u001b[0m\u001b[1;33m\u001b[0m\u001b[1;33m\u001b[0m\u001b[0m\n\u001b[1;32m--> 168\u001b[1;33m         \u001b[0mself\u001b[0m\u001b[1;33m.\u001b[0m\u001b[0mfit_chainer\u001b[0m\u001b[1;33m(\u001b[0m\u001b[0miterator\u001b[0m\u001b[1;33m)\u001b[0m\u001b[1;33m\u001b[0m\u001b[1;33m\u001b[0m\u001b[0m\n\u001b[0m\u001b[0;32m    169\u001b[0m         \u001b[0mself\u001b[0m\u001b[1;33m.\u001b[0m\u001b[0m_saved\u001b[0m \u001b[1;33m=\u001b[0m \u001b[1;32mTrue\u001b[0m\u001b[1;33m\u001b[0m\u001b[1;33m\u001b[0m\u001b[0m\n\u001b[0;32m    170\u001b[0m \u001b[1;33m\u001b[0m\u001b[0m\n",
      "\u001b[1;32mC:\\Users\\Администратор\\AppData\\Roaming\\Python\\Python37\\site-packages\\deeppavlov\\core\\trainers\\fit_trainer.py\u001b[0m in \u001b[0;36mfit_chainer\u001b[1;34m(self, iterator)\u001b[0m\n\u001b[0;32m    102\u001b[0m             \u001b[1;32mraise\u001b[0m \u001b[0mRuntimeError\u001b[0m\u001b[1;33m(\u001b[0m\u001b[1;34m'Cannot fit already built chainer'\u001b[0m\u001b[1;33m)\u001b[0m\u001b[1;33m\u001b[0m\u001b[1;33m\u001b[0m\u001b[0m\n\u001b[0;32m    103\u001b[0m         \u001b[1;32mfor\u001b[0m \u001b[0mcomponent_index\u001b[0m\u001b[1;33m,\u001b[0m \u001b[0mcomponent_config\u001b[0m \u001b[1;32min\u001b[0m \u001b[0menumerate\u001b[0m\u001b[1;33m(\u001b[0m\u001b[0mself\u001b[0m\u001b[1;33m.\u001b[0m\u001b[0mchainer_config\u001b[0m\u001b[1;33m[\u001b[0m\u001b[1;34m'pipe'\u001b[0m\u001b[1;33m]\u001b[0m\u001b[1;33m,\u001b[0m \u001b[1;36m1\u001b[0m\u001b[1;33m)\u001b[0m\u001b[1;33m:\u001b[0m\u001b[1;33m\u001b[0m\u001b[1;33m\u001b[0m\u001b[0m\n\u001b[1;32m--> 104\u001b[1;33m             \u001b[0mcomponent\u001b[0m \u001b[1;33m=\u001b[0m \u001b[0mfrom_params\u001b[0m\u001b[1;33m(\u001b[0m\u001b[0mcomponent_config\u001b[0m\u001b[1;33m,\u001b[0m \u001b[0mmode\u001b[0m\u001b[1;33m=\u001b[0m\u001b[1;34m'train'\u001b[0m\u001b[1;33m)\u001b[0m\u001b[1;33m\u001b[0m\u001b[1;33m\u001b[0m\u001b[0m\n\u001b[0m\u001b[0;32m    105\u001b[0m             \u001b[1;32mif\u001b[0m \u001b[1;34m'fit_on'\u001b[0m \u001b[1;32min\u001b[0m \u001b[0mcomponent_config\u001b[0m\u001b[1;33m:\u001b[0m\u001b[1;33m\u001b[0m\u001b[1;33m\u001b[0m\u001b[0m\n\u001b[0;32m    106\u001b[0m                 \u001b[0mcomponent\u001b[0m\u001b[1;33m:\u001b[0m \u001b[0mEstimator\u001b[0m\u001b[1;33m\u001b[0m\u001b[1;33m\u001b[0m\u001b[0m\n",
      "\u001b[1;32mC:\\Users\\Администратор\\AppData\\Roaming\\Python\\Python37\\site-packages\\deeppavlov\\core\\common\\params.py\u001b[0m in \u001b[0;36mfrom_params\u001b[1;34m(params, mode, serialized, **kwargs)\u001b[0m\n\u001b[0;32m    104\u001b[0m                 \u001b[0mkwargs\u001b[0m\u001b[1;33m[\u001b[0m\u001b[1;34m'mode'\u001b[0m\u001b[1;33m]\u001b[0m \u001b[1;33m=\u001b[0m \u001b[0mmode\u001b[0m\u001b[1;33m\u001b[0m\u001b[1;33m\u001b[0m\u001b[0m\n\u001b[0;32m    105\u001b[0m \u001b[1;33m\u001b[0m\u001b[0m\n\u001b[1;32m--> 106\u001b[1;33m             \u001b[0mcomponent\u001b[0m \u001b[1;33m=\u001b[0m \u001b[0mobj\u001b[0m\u001b[1;33m(\u001b[0m\u001b[1;33m**\u001b[0m\u001b[0mdict\u001b[0m\u001b[1;33m(\u001b[0m\u001b[0mconfig_params\u001b[0m\u001b[1;33m,\u001b[0m \u001b[1;33m**\u001b[0m\u001b[0mkwargs\u001b[0m\u001b[1;33m)\u001b[0m\u001b[1;33m)\u001b[0m\u001b[1;33m\u001b[0m\u001b[1;33m\u001b[0m\u001b[0m\n\u001b[0m\u001b[0;32m    107\u001b[0m             \u001b[1;32mtry\u001b[0m\u001b[1;33m:\u001b[0m\u001b[1;33m\u001b[0m\u001b[1;33m\u001b[0m\u001b[0m\n\u001b[0;32m    108\u001b[0m                 \u001b[0m_refs\u001b[0m\u001b[1;33m[\u001b[0m\u001b[0mconfig_params\u001b[0m\u001b[1;33m[\u001b[0m\u001b[1;34m'id'\u001b[0m\u001b[1;33m]\u001b[0m\u001b[1;33m]\u001b[0m \u001b[1;33m=\u001b[0m \u001b[0mcomponent\u001b[0m\u001b[1;33m\u001b[0m\u001b[1;33m\u001b[0m\u001b[0m\n",
      "\u001b[1;32mC:\\Users\\Администратор\\AppData\\Roaming\\Python\\Python37\\site-packages\\deeppavlov\\models\\sklearn\\sklearn_component.py\u001b[0m in \u001b[0;36m__init__\u001b[1;34m(self, model_class, save_path, load_path, infer_method, ensure_list_output, **kwargs)\u001b[0m\n\u001b[0;32m     81\u001b[0m             \u001b[0mself\u001b[0m\u001b[1;33m.\u001b[0m\u001b[0mpipe_params\u001b[0m\u001b[1;33m[\u001b[0m\u001b[0mrequired\u001b[0m\u001b[1;33m]\u001b[0m \u001b[1;33m=\u001b[0m \u001b[0mself\u001b[0m\u001b[1;33m.\u001b[0m\u001b[0mmodel_params\u001b[0m\u001b[1;33m.\u001b[0m\u001b[0mpop\u001b[0m\u001b[1;33m(\u001b[0m\u001b[0mrequired\u001b[0m\u001b[1;33m,\u001b[0m \u001b[1;32mNone\u001b[0m\u001b[1;33m)\u001b[0m\u001b[1;33m\u001b[0m\u001b[1;33m\u001b[0m\u001b[0m\n\u001b[0;32m     82\u001b[0m \u001b[1;33m\u001b[0m\u001b[0m\n\u001b[1;32m---> 83\u001b[1;33m         \u001b[0mself\u001b[0m\u001b[1;33m.\u001b[0m\u001b[0mload\u001b[0m\u001b[1;33m(\u001b[0m\u001b[1;33m)\u001b[0m\u001b[1;33m\u001b[0m\u001b[1;33m\u001b[0m\u001b[0m\n\u001b[0m\u001b[0;32m     84\u001b[0m         \u001b[0mself\u001b[0m\u001b[1;33m.\u001b[0m\u001b[0minfer_method\u001b[0m \u001b[1;33m=\u001b[0m \u001b[0mgetattr\u001b[0m\u001b[1;33m(\u001b[0m\u001b[0mself\u001b[0m\u001b[1;33m.\u001b[0m\u001b[0mmodel\u001b[0m\u001b[1;33m,\u001b[0m \u001b[0minfer_method\u001b[0m\u001b[1;33m)\u001b[0m\u001b[1;33m\u001b[0m\u001b[1;33m\u001b[0m\u001b[0m\n\u001b[0;32m     85\u001b[0m \u001b[1;33m\u001b[0m\u001b[0m\n",
      "\u001b[1;32mC:\\Users\\Администратор\\AppData\\Roaming\\Python\\Python37\\site-packages\\deeppavlov\\models\\sklearn\\sklearn_component.py\u001b[0m in \u001b[0;36mload\u001b[1;34m(self, fname)\u001b[0m\n\u001b[0;32m    206\u001b[0m \u001b[1;33m\u001b[0m\u001b[0m\n\u001b[0;32m    207\u001b[0m             \u001b[0mwarm_start\u001b[0m \u001b[1;33m=\u001b[0m \u001b[0mself\u001b[0m\u001b[1;33m.\u001b[0m\u001b[0mmodel_params\u001b[0m\u001b[1;33m.\u001b[0m\u001b[0mget\u001b[0m\u001b[1;33m(\u001b[0m\u001b[1;34m\"warm_start\"\u001b[0m\u001b[1;33m,\u001b[0m \u001b[1;32mNone\u001b[0m\u001b[1;33m)\u001b[0m\u001b[1;33m\u001b[0m\u001b[1;33m\u001b[0m\u001b[0m\n\u001b[1;32m--> 208\u001b[1;33m             \u001b[0mself\u001b[0m\u001b[1;33m.\u001b[0m\u001b[0mmodel_params\u001b[0m \u001b[1;33m=\u001b[0m \u001b[1;33m{\u001b[0m\u001b[0mparam\u001b[0m\u001b[1;33m:\u001b[0m \u001b[0mgetattr\u001b[0m\u001b[1;33m(\u001b[0m\u001b[0mself\u001b[0m\u001b[1;33m.\u001b[0m\u001b[0mmodel\u001b[0m\u001b[1;33m,\u001b[0m \u001b[0mparam\u001b[0m\u001b[1;33m)\u001b[0m \u001b[1;32mfor\u001b[0m \u001b[0mparam\u001b[0m \u001b[1;32min\u001b[0m \u001b[0mself\u001b[0m\u001b[1;33m.\u001b[0m\u001b[0mget_class_attributes\u001b[0m\u001b[1;33m(\u001b[0m\u001b[0mself\u001b[0m\u001b[1;33m.\u001b[0m\u001b[0mmodel\u001b[0m\u001b[1;33m)\u001b[0m\u001b[1;33m}\u001b[0m\u001b[1;33m\u001b[0m\u001b[1;33m\u001b[0m\u001b[0m\n\u001b[0m\u001b[0;32m    209\u001b[0m             \u001b[0mself\u001b[0m\u001b[1;33m.\u001b[0m\u001b[0mmodel_class\u001b[0m \u001b[1;33m=\u001b[0m \u001b[0mself\u001b[0m\u001b[1;33m.\u001b[0m\u001b[0mmodel\u001b[0m\u001b[1;33m.\u001b[0m\u001b[0m__module__\u001b[0m \u001b[1;33m+\u001b[0m \u001b[0mself\u001b[0m\u001b[1;33m.\u001b[0m\u001b[0mmodel\u001b[0m\u001b[1;33m.\u001b[0m\u001b[0m__class__\u001b[0m\u001b[1;33m.\u001b[0m\u001b[0m__name__\u001b[0m\u001b[1;33m\u001b[0m\u001b[1;33m\u001b[0m\u001b[0m\n\u001b[0;32m    210\u001b[0m             \u001b[0mlog\u001b[0m\u001b[1;33m.\u001b[0m\u001b[0minfo\u001b[0m\u001b[1;33m(\u001b[0m\u001b[1;34m\"Model {} loaded  with parameters\"\u001b[0m\u001b[1;33m.\u001b[0m\u001b[0mformat\u001b[0m\u001b[1;33m(\u001b[0m\u001b[0mself\u001b[0m\u001b[1;33m.\u001b[0m\u001b[0mmodel_class\u001b[0m\u001b[1;33m)\u001b[0m\u001b[1;33m)\u001b[0m\u001b[1;33m\u001b[0m\u001b[1;33m\u001b[0m\u001b[0m\n",
      "\u001b[1;32mC:\\Users\\Администратор\\AppData\\Roaming\\Python\\Python37\\site-packages\\deeppavlov\\models\\sklearn\\sklearn_component.py\u001b[0m in \u001b[0;36mget_class_attributes\u001b[1;34m(cls)\u001b[0m\n\u001b[0;32m    308\u001b[0m             \u001b[0mlist\u001b[0m \u001b[0mof\u001b[0m \u001b[0mnames\u001b[0m \u001b[0mof\u001b[0m \u001b[0mgiven\u001b[0m \u001b[1;32mclass\u001b[0m\u001b[0;31m'\u001b[0m \u001b[0mattributes\u001b[0m\u001b[1;33m\u001b[0m\u001b[1;33m\u001b[0m\u001b[0m\n\u001b[0;32m    309\u001b[0m         \"\"\"\n\u001b[1;32m--> 310\u001b[1;33m         \u001b[1;32mreturn\u001b[0m \u001b[0mlist\u001b[0m\u001b[1;33m(\u001b[0m\u001b[0mcls\u001b[0m\u001b[1;33m.\u001b[0m\u001b[0m__dict__\u001b[0m\u001b[1;33m.\u001b[0m\u001b[0mkeys\u001b[0m\u001b[1;33m(\u001b[0m\u001b[1;33m)\u001b[0m\u001b[1;33m)\u001b[0m\u001b[1;33m\u001b[0m\u001b[1;33m\u001b[0m\u001b[0m\n\u001b[0m",
      "\u001b[1;31mAttributeError\u001b[0m: 'tuple' object has no attribute '__dict__'"
     ]
    },
    {
     "name": "stderr",
     "output_type": "stream",
     "text": [
      "2021-08-03 16:15:48.926 INFO in 'deeppavlov.download'['download'] at line 138: Skipped http://files.deeppavlov.ai/faq/school/fasttext_cos_classifier.pkl download because of matching hashes\n",
      "2021-08-03 16:15:50.278 INFO in 'deeppavlov.download'['download'] at line 138: Skipped http://files.deeppavlov.ai/embeddings/lenta_lower_100.bin download because of matching hashes\n",
      "2021-08-03 16:15:50.354 INFO in 'deeppavlov.models.embedders.fasttext_embedder'['fasttext_embedder'] at line 53: [loading fastText embeddings from `D:\\PROJECTS\\python\\multitask_nlp\\embeddings\\lenta_lower_100.bin`]\n",
      "Warning : `load_model` does not return WordVectorModel or SupervisedModel any more, but a `FastText` object which is very similar.\n",
      "2021-08-03 16:15:51.809 INFO in 'deeppavlov.models.classifiers.cos_sim_classifier'['cos_sim_classifier'] at line 128: Saving faq_model to D:\\PROJECTS\\python\\multitask_nlp\\faq\\fasttext_cos_classifier.pkl\n",
      "2021-08-03 16:15:51.973 INFO in 'deeppavlov.models.embedders.fasttext_embedder'['fasttext_embedder'] at line 53: [loading fastText embeddings from `D:\\PROJECTS\\python\\multitask_nlp\\embeddings\\lenta_lower_100.bin`]\n",
      "Warning : `load_model` does not return WordVectorModel or SupervisedModel any more, but a `FastText` object which is very similar.\n",
      "2021-08-03 16:15:53.391 INFO in 'deeppavlov.models.classifiers.cos_sim_classifier'['cos_sim_classifier'] at line 133: Loading faq_model from D:\\PROJECTS\\python\\multitask_nlp\\faq\\fasttext_cos_classifier.pkl\n",
      "2021-08-03 16:15:53.552 INFO in 'deeppavlov.models.embedders.fasttext_embedder'['fasttext_embedder'] at line 53: [loading fastText embeddings from `D:\\PROJECTS\\python\\multitask_nlp\\embeddings\\lenta_lower_100.bin`]\n",
      "Warning : `load_model` does not return WordVectorModel or SupervisedModel any more, but a `FastText` object which is very similar.\n",
      "2021-08-03 16:15:54.973 INFO in 'deeppavlov.models.classifiers.cos_sim_classifier'['cos_sim_classifier'] at line 133: Loading faq_model from D:\\PROJECTS\\python\\multitask_nlp\\faq\\fasttext_cos_classifier.pkl\n"
     ]
    },
    {
     "data": {
      "text/plain": [
       "[['Материалы для подготовки будут размещены в ближайшее время на сайте лицея в разделе \"Материалы для подготовки\".'],\n",
       " [0.08]]"
      ]
     },
     "execution_count": 19,
     "metadata": {},
     "output_type": "execute_result"
    }
   ],
   "source": [
    "%tb\n",
    "config_path='configs/fasttext_avg_autofaq.json'\n",
    "#config_path='configs/fasttext.json'\n",
    "\n",
    "model_config = read_json(config_path)\n",
    "model_config[\"chainer\"][\"pipe\"][1][\"load_path\"] = \"embeddings/lenta_lower_100.bin\"\n",
    "model_config[\"chainer\"][\"pipe\"][2][\"load_path\"] = \"faq/fasttext_cos_classifier.pkl\"\n",
    "model_config[\"chainer\"][\"pipe\"][2][\"save_path\"] = \"faq/fasttext_cos_classifier.pkl\"\n",
    "\n",
    "model_config[\"metadata\"]['variables']['DOWNLOADS_PATH']='downloads'\n",
    "model_config[\"metadata\"]['variables']['MODELS_PATH']='models'\n",
    "\n",
    "model_config['metadata']['download'][0]['subdir']='models/faq'\n",
    "model_config['metadata']['download'][1]['subdir']='embeddings'\n",
    "\n",
    "#model_config[\"dataset_reader\"][\"data_path\"] = \"dataset_vsu_qa.csv\"\n",
    "model_config[\"dataset_reader\"][\"data_path\"] = \"faq_school.csv\"\n",
    "#model_config[\"dataset_reader\"][\"data_path\"] = \"faq.csv\"\n",
    "model_config[\"dataset_reader\"][\"data_url\"] = None\n",
    "\n",
    "faq = train_model(model_config,download = True)\n",
    "a = faq([\"что такое вступительные экзамены\"])\n",
    "a"
   ]
  },
  {
   "cell_type": "code",
   "execution_count": 26,
   "metadata": {},
   "outputs": [
    {
     "data": {
      "text/plain": [
       "[['В справке должны быть указаны: ФИО учащегося (полностью), название образовательной организации с указанием населенного пункта, класса обучения, дата выдачи справки. Справка заверяется подписью ответственного лица и печатью. Фотография необходима для учащихся, не имеющих паспорта.'],\n",
       " [0.07]]"
      ]
     },
     "execution_count": 26,
     "metadata": {},
     "output_type": "execute_result"
    }
   ],
   "source": [
    "a = faq([\"How long does the academic year last?\"])\n",
    "a"
   ]
  },
  {
   "cell_type": "code",
   "execution_count": 27,
   "metadata": {},
   "outputs": [
    {
     "data": {
      "text/plain": [
       "[['Вы можете написать нам письмо на почту приемной кампании, с адреса, который указали при регистрации или обратиться к нашим сотрудниками через Telegram и предоставить информацию, которая позволит идентифицировать вашего ребенка (ФИО, дата рождения и адрес электронной почты, указанный при регистрации).'],\n",
       " [0.09]]"
      ]
     },
     "execution_count": 27,
     "metadata": {},
     "output_type": "execute_result"
    }
   ],
   "source": [
    "a = faq([\"Как восстановить код регистрации?\"])\n",
    "a"
   ]
  },
  {
   "cell_type": "code",
   "execution_count": 28,
   "metadata": {},
   "outputs": [
    {
     "data": {
      "text/plain": [
       "[['Ограничений по количеству поступающих при электронной регистрации не будет.'],\n",
       " [0.09]]"
      ]
     },
     "execution_count": 28,
     "metadata": {},
     "output_type": "execute_result"
    }
   ],
   "source": [
    "a = faq([\"Мы зарегистрировались онлайн. Нас все равно примут\"])\n",
    "a"
   ]
  },
  {
   "cell_type": "code",
   "execution_count": 29,
   "metadata": {},
   "outputs": [
    {
     "data": {
      "text/plain": [
       "[['Демоверсии заданий по информатике первого этапа вступительных испытаний размещены в разделе \"Материалы для подготовки\".'],\n",
       " [0.08]]"
      ]
     },
     "execution_count": 29,
     "metadata": {},
     "output_type": "execute_result"
    }
   ],
   "source": [
    "a = faq([\"Есть ли варианты тестирования по информатике за 10 класс прошлых лет?\"])\n",
    "a"
   ]
  },
  {
   "cell_type": "code",
   "execution_count": 31,
   "metadata": {},
   "outputs": [
    {
     "data": {
      "text/plain": [
       "[['Подробно про личный кабинет вы можете прочитать в соответствующем разделе.'],\n",
       " [0.07]]"
      ]
     },
     "execution_count": 31,
     "metadata": {},
     "output_type": "execute_result"
    }
   ],
   "source": [
    "a = faq([\"как взять криволинейный интеграл\"])\n",
    "a"
   ]
  },
  {
   "cell_type": "code",
   "execution_count": 15,
   "metadata": {},
   "outputs": [
    {
     "data": {
      "text/plain": [
       "OrderedDict([('dataset_reader',\n",
       "              OrderedDict([('class_name', 'faq_reader'),\n",
       "                           ('x_col_name', 'Question'),\n",
       "                           ('y_col_name', 'Answer'),\n",
       "                           ('data_url', None),\n",
       "                           ('data_path', 'faq_school.csv')])),\n",
       "             ('dataset_iterator',\n",
       "              OrderedDict([('class_name', 'data_learning_iterator')])),\n",
       "             ('chainer',\n",
       "              OrderedDict([('in', 'question'),\n",
       "                           ('pipe',\n",
       "                            [OrderedDict([('class_name', 'ru_tokenizer'),\n",
       "                                          ('in', 'question'),\n",
       "                                          ('lemmas', True),\n",
       "                                          ('out', 'q_token_lemmas')]),\n",
       "                             OrderedDict([('class_name', 'fasttext'),\n",
       "                                          ('in', 'q_token_lemmas'),\n",
       "                                          ('load_path',\n",
       "                                           'embeddings/lenta_lower_100.bin'),\n",
       "                                          ('mean', True),\n",
       "                                          ('out', 'question_vector')]),\n",
       "                             OrderedDict([('class_name', 'cos_sim_classifier'),\n",
       "                                          ('in', 'question_vector'),\n",
       "                                          ('fit_on', ['question_vector', 'y']),\n",
       "                                          ('top_n', 1),\n",
       "                                          ('save_path',\n",
       "                                           'faq/fasttext_cos_classifier.pkl'),\n",
       "                                          ('load_path',\n",
       "                                           'faq/fasttext_cos_classifier.pkl'),\n",
       "                                          ('out', ['answer', 'score'])])]),\n",
       "                           ('out', ['answer', 'score'])])),\n",
       "             ('train',\n",
       "              OrderedDict([('evaluation_targets', []),\n",
       "                           ('class_name', 'fit_trainer')])),\n",
       "             ('metadata',\n",
       "              OrderedDict([('variables',\n",
       "                            OrderedDict([('ROOT_PATH', '~/.deeppavlov'),\n",
       "                                         ('DOWNLOADS_PATH', 'downloads'),\n",
       "                                         ('MODELS_PATH', 'models')])),\n",
       "                           ('requirements',\n",
       "                            ['{DEEPPAVLOV_PATH}/requirements/fasttext.txt']),\n",
       "                           ('download',\n",
       "                            [OrderedDict([('url',\n",
       "                                           'http://files.deeppavlov.ai/faq/school/fasttext_cos_classifier.pkl'),\n",
       "                                          ('subdir', 'models/faq')]),\n",
       "                             OrderedDict([('url',\n",
       "                                           'http://files.deeppavlov.ai/embeddings/lenta_lower_100.bin'),\n",
       "                                          ('subdir', 'embeddings')])])]))])"
      ]
     },
     "execution_count": 15,
     "metadata": {},
     "output_type": "execute_result"
    }
   ],
   "source": [
    "model_config"
   ]
  },
  {
   "cell_type": "code",
   "execution_count": null,
   "metadata": {},
   "outputs": [],
   "source": [
    "model_config = read_json(configs.faq.tfidf_logreg_en_faq)\n",
    "model_config[\"dataset_reader\"][\"data_path\"] = \"faq_school_en.csv\"\n",
    "model_config[\"dataset_reader\"][\"data_url\"] = None\n",
    "faq = train_model(model_config)\n",
    "a = faq([\"tell me about DeepPavlov\"])\n",
    "a"
   ]
  },
  {
   "cell_type": "code",
   "execution_count": null,
   "metadata": {},
   "outputs": [],
   "source": [
    "result = faq(['What is your open hours?'])\n",
    "result"
   ]
  },
  {
   "cell_type": "code",
   "execution_count": null,
   "metadata": {},
   "outputs": [],
   "source": [
    "faq = build_model(configs.faq.tfidf_autofaq, download = True)\n",
    "faq(['мне нужен код регистрации'])"
   ]
  }
 ],
 "metadata": {
  "kernelspec": {
   "display_name": "torch",
   "language": "python",
   "name": "torch"
  },
  "language_info": {
   "codemirror_mode": {
    "name": "ipython",
    "version": 3
   },
   "file_extension": ".py",
   "mimetype": "text/x-python",
   "name": "python",
   "nbconvert_exporter": "python",
   "pygments_lexer": "ipython3",
   "version": "3.7.10"
  }
 },
 "nbformat": 4,
 "nbformat_minor": 4
}
