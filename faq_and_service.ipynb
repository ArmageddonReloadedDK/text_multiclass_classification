{
 "cells": [
  {
   "cell_type": "code",
   "execution_count": 1,
   "metadata": {},
   "outputs": [
    {
     "name": "stderr",
     "output_type": "stream",
     "text": [
      "C:\\Anaconda\\envs\\torch\\lib\\site-packages\\gensim\\similarities\\__init__.py:15: UserWarning: The gensim.similarities.levenshtein submodule is disabled, because the optional Levenshtein package <https://pypi.org/project/python-Levenshtein/> is unavailable. Install Levenhstein (e.g. `pip install python-Levenshtein`) to suppress this warning.\n",
      "  warnings.warn(msg)\n"
     ]
    }
   ],
   "source": [
    "import pandas as pd\n",
    "import numpy as np\n",
    "import pymorphy2\n",
    "from matplotlib.colors import ListedColormap\n",
    "from numpy.random import choice\n",
    "from matplotlib import pyplot as plt\n",
    "\n",
    "import re\n",
    "\n",
    "from gensim.models import FastText,KeyedVectors,fasttext\n",
    "\n",
    "from sklearn import metrics\n",
    "\n",
    "from scipy import spatial\n",
    "\n",
    "import torch\n",
    "\n",
    "from transformers import AutoTokenizer, AutoModel\n",
    "\n",
    "'''import tensorflow as tf\n",
    "from tensorflow.keras.layers import Reshape,BatchNormalization,MaxPooling2D,Lambda\n",
    "from tensorflow.keras.layers import Dense,Activation,Reshape,Conv2D,LeakyReLU,concatenate,Flatten\n",
    "from tensorflow.keras import Input\n",
    "from tensorflow.keras.models import Sequential,Model\n",
    "from tensorflow.keras import backend as K\n",
    "from tensorflow.keras.optimizers import RMSprop, Adam\n",
    "'''\n",
    "from sklearn.model_selection import train_test_split\n",
    "from sklearn import cluster\n",
    "\n",
    "import seaborn as sns\n",
    "import umap"
   ]
  },
  {
   "cell_type": "markdown",
   "metadata": {},
   "source": [
    "## FAQ"
   ]
  },
  {
   "cell_type": "markdown",
   "metadata": {},
   "source": [
    "### Get data"
   ]
  },
  {
   "cell_type": "code",
   "execution_count": 103,
   "metadata": {},
   "outputs": [
    {
     "data": {
      "text/html": [
       "<div>\n",
       "<style scoped>\n",
       "    .dataframe tbody tr th:only-of-type {\n",
       "        vertical-align: middle;\n",
       "    }\n",
       "\n",
       "    .dataframe tbody tr th {\n",
       "        vertical-align: top;\n",
       "    }\n",
       "\n",
       "    .dataframe thead th {\n",
       "        text-align: right;\n",
       "    }\n",
       "</style>\n",
       "<table border=\"1\" class=\"dataframe\">\n",
       "  <thead>\n",
       "    <tr style=\"text-align: right;\">\n",
       "      <th></th>\n",
       "      <th>Question</th>\n",
       "      <th>Answer</th>\n",
       "    </tr>\n",
       "  </thead>\n",
       "  <tbody>\n",
       "    <tr>\n",
       "      <th>0</th>\n",
       "      <td>Как изменить ФИО собственника?</td>\n",
       "      <td>Для переоформления лицевого счета на нового вл...</td>\n",
       "    </tr>\n",
       "    <tr>\n",
       "      <th>1</th>\n",
       "      <td>Как исправить ошибку (или опечатку) в ФИОсобст...</td>\n",
       "      <td>Подать заявку на изменение данных можно в личн...</td>\n",
       "    </tr>\n",
       "    <tr>\n",
       "      <th>2</th>\n",
       "      <td>Как изменить телефон?</td>\n",
       "      <td>Изменить номер мобильного телефона можно самос...</td>\n",
       "    </tr>\n",
       "    <tr>\n",
       "      <th>3</th>\n",
       "      <td>Как изменить количество проживающих?</td>\n",
       "      <td>Изменить данные о количестве проживающих можно...</td>\n",
       "    </tr>\n",
       "    <tr>\n",
       "      <th>4</th>\n",
       "      <td>Как изменить количество комнат?</td>\n",
       "      <td>Изменить данные о количестве комнат можно толь...</td>\n",
       "    </tr>\n",
       "  </tbody>\n",
       "</table>\n",
       "</div>"
      ],
      "text/plain": [
       "                                            Question  \\\n",
       "0                     Как изменить ФИО собственника?   \n",
       "1  Как исправить ошибку (или опечатку) в ФИОсобст...   \n",
       "2                              Как изменить телефон?   \n",
       "3               Как изменить количество проживающих?   \n",
       "4                    Как изменить количество комнат?   \n",
       "\n",
       "                                              Answer  \n",
       "0  Для переоформления лицевого счета на нового вл...  \n",
       "1  Подать заявку на изменение данных можно в личн...  \n",
       "2  Изменить номер мобильного телефона можно самос...  \n",
       "3  Изменить данные о количестве проживающих можно...  \n",
       "4  Изменить данные о количестве комнат можно толь...  "
      ]
     },
     "execution_count": 103,
     "metadata": {},
     "output_type": "execute_result"
    }
   ],
   "source": [
    "faq=pd.read_csv('faq.csv')\n",
    "faq.head(5)"
   ]
  },
  {
   "cell_type": "markdown",
   "metadata": {},
   "source": [
    "### Question answering"
   ]
  },
  {
   "cell_type": "code",
   "execution_count": 3,
   "metadata": {},
   "outputs": [],
   "source": [
    "class SearchEngine():\n",
    "    def __init__(self,faq,sbert_name=False,fasttext_path=False):\n",
    "        self.faq=faq\n",
    "        if sbert_name:\n",
    "            self.device = torch.device('cuda' if torch.cuda.is_available() else 'cpu')\n",
    "            self.sbert_model = AutoModel.from_pretrained(sbert_name)\n",
    "            self.sbert_model.to(self.device)\n",
    "            self.sbert_tokenizer = AutoTokenizer.from_pretrained(sbert_name)\n",
    "            self.sbert_faq_embs=np.array([self.vectorize_sentence_sbert(sent) for sent in self.faq[:,0]])\n",
    "            \n",
    "        if fasttext_path:\n",
    "            self.ft_model= fasttext.FastTextKeyedVectors.load(fasttext_path)\n",
    "            self.ft_faq_embs=np.array([self.vectorize_sentence_ft(sent) for sent in self.faq[:,0]])\n",
    "        \n",
    "    def vectorize_sentence_ft(self,sentence):\n",
    "        txt=sentence.split()\n",
    "        val=0\n",
    "        for word in txt:\n",
    "            val+=self.ft_model[word]\n",
    "\n",
    "        return val/len(txt)\n",
    "    \n",
    "\n",
    "    def vectorize_sentence_sbert(self,sentence):\n",
    "    \n",
    "        encoded_input = self.sbert_tokenizer(sentence,\n",
    "                                             padding=True,\n",
    "                                             truncation=True,\n",
    "                                             max_length=24,\n",
    "                                             return_tensors='pt').to(self.device)\n",
    "\n",
    "   #     with torch.no_grad():\n",
    "        model_output = self.sbert_model(**encoded_input)\n",
    "            \n",
    "        #Perform pooling. In this case, mean pooling\n",
    "        sentence_embedding = self.mean_pooling(model_output, encoded_input['attention_mask'])\n",
    "        sentence_embedding = np.squeeze(sentence_embedding)\n",
    "        \n",
    "        return sentence_embedding.cpu().data.numpy()\n",
    "    \n",
    "\n",
    "    \n",
    "    @classmethod\n",
    "    def mean_pooling(cls,model_output, attention_mask):\n",
    "        #Mean Pooling - Take attention mask into account for correct averaging\n",
    "        token_embeddings = model_output[0] #First element of model_output contains all token embeddings\n",
    "        input_mask_expanded = attention_mask.unsqueeze(-1).expand(token_embeddings.size()).float()\n",
    "        sum_embeddings = torch.sum(token_embeddings * input_mask_expanded, 1)\n",
    "        sum_mask = torch.clamp(input_mask_expanded.sum(1), min=1e-9)\n",
    "        return sum_embeddings / sum_mask\n",
    "    \n",
    "    def search_faq(self,question,eps,minimal_score,mode,beta):\n",
    "        if mode=='fasttext':\n",
    "            vectorizer=self.vectorize_sentence_ft\n",
    "            faq_embs=self.ft_faq_embs\n",
    "        elif mode=='sbert':\n",
    "            vectorizer=self.vectorize_sentence_sbert\n",
    "            faq_embs=self.sbert_faq_embs\n",
    "\n",
    "        question_emb=vectorizer(question)\n",
    "        score=np.zeros((self.faq.shape[0],1))\n",
    "\n",
    "       \n",
    "        for i,faq_emb in enumerate(faq_embs):\n",
    "\n",
    "            distance=1-spatial.distance.cosine( faq_emb,question_emb)\n",
    "            score[i,0]=distance\n",
    "                 \n",
    "        \n",
    "        faq_logits=np.concatenate([faq,faq_embs,score],axis=1)\n",
    "        faq_logits=faq_logits[faq_logits[:, 3].argsort()]\n",
    "        faq_logits=faq_logits[::-1]\n",
    "\n",
    "\n",
    "        max_score=faq_logits[0,3]\n",
    "        display_num=0\n",
    "\n",
    "        for scr in faq_logits[:,2]:\n",
    "            if max_score-scr<eps and scr > minimal_score:\n",
    "                display_num+=1\n",
    "            else:\n",
    "                break\n",
    "         \n",
    "\n",
    "\n",
    "        \n",
    "        return faq_logits[:display_num]\n",
    "    \n"
   ]
  },
  {
   "cell_type": "code",
   "execution_count": 104,
   "metadata": {},
   "outputs": [
    {
     "name": "stdout",
     "output_type": "stream",
     "text": [
      "Wall time: 17.3 s\n"
     ]
    }
   ],
   "source": [
    "%%time\n",
    "sbert_name=\"sberbank-ai/sbert_large_mt_nlu_ru\"\n",
    "# https://rusvectores.org/ru/models/\n",
    "fasttext_path='weights/model.model'\n",
    "engine=SearchEngine(faq.values,sbert_name,fasttext_path)\n"
   ]
  },
  {
   "cell_type": "code",
   "execution_count": 142,
   "metadata": {},
   "outputs": [
    {
     "name": "stdout",
     "output_type": "stream",
     "text": [
      "Question:  льгота  от расхода\n",
      "---------------------\n",
      "---------------------\n",
      "---------------------\n",
      "Wall time: 24.9 ms\n"
     ]
    }
   ],
   "source": [
    "%%time\n",
    "noise=' пук кряк пиво интерал'\n",
    "noise2=' а то я не умею'\n",
    "question=faq['Question'][51] +noise2+noise\n",
    "#question='Как оформить льготу '\n",
    "question='льгота  от расхода'\n",
    "#question='Как будут осуществляться начисления если счетчик сломается'\n",
    "print('Question: ',question)\n",
    "print('---------------------')\n",
    "\n",
    "eps=0.15\n",
    "minimal_score=0.72\n",
    "beta=1.5\n",
    "\n",
    "modes=['fasttext','sbert','both']\n",
    "mode=modes[1]\n",
    "vectorizer=engine.vectorize_sentence_sbert\n",
    "\n",
    "output=search_faq(engine,question,eps,minimal_score,mode=mode,beta=beta)\n",
    "\n",
    "min_val=0.5\n",
    "#cleaned_question=clean_question(SearchEngine.vectorize_sentence_ft,question,output[:,0],min_val)\n",
    "#print(output)\n",
    "print('---------------------')\n",
    "#print('Cleaned question:',cleaned_question)\n",
    "print('---------------------')\n"
   ]
  },
  {
   "cell_type": "code",
   "execution_count": 105,
   "metadata": {},
   "outputs": [],
   "source": [
    " def calculate_faq(question_emb,faq_embs,eps,minimal_score,mode):\n",
    "\n",
    "        score=np.zeros((engine.faq.shape[0],1))\n",
    "        for i,faq_emb in enumerate(faq_embs):\n",
    "            \n",
    "            distance=1-spatial.distance.cosine( faq_emb,question_emb)\n",
    "            score[i,0]=round(distance,4)\n",
    "                 \n",
    "        index=np.arange(len(engine.faq)).reshape((-1,1))\n",
    "        \n",
    "        questions=engine.faq[:,0].reshape((-1,1))\n",
    "        \n",
    "        faq_logits=np.concatenate([index,score],axis=1)\n",
    "        faq_logits=faq_logits[faq_logits[:, 1].argsort()]\n",
    "        faq_logits=faq_logits[::-1]\n",
    "\n",
    "\n",
    "        max_score=faq_logits[0,1]\n",
    "        display_num=0\n",
    "\n",
    "        for scr in faq_logits[:,1]:\n",
    "            if max_score-scr<eps and scr > minimal_score:\n",
    "                display_num+=1\n",
    "            else:\n",
    "                break\n",
    "         \n",
    "        faq_logits=faq_logits[:display_num]\n",
    "        \n",
    "        \n",
    "        return faq_logits\n",
    "    "
   ]
  },
  {
   "cell_type": "code",
   "execution_count": 132,
   "metadata": {},
   "outputs": [],
   "source": [
    "def find_faq(engine,question,eps,minimal_score,mode,verbose=False,plot=False):\n",
    "    \n",
    "    if mode=='fasttext':\n",
    "        vectorizer=engine.vectorize_sentence_ft\n",
    "        faq_embs=engine.ft_faq_embs\n",
    "    elif mode=='sbert':\n",
    "        vectorizer=engine.vectorize_sentence_sbert\n",
    "        faq_embs=engine.sbert_faq_embs\n",
    "            \n",
    "    question_emb=vectorizer(question)\n",
    "    faq_logits=calculate_faq(question_emb,faq_embs,eps,minimal_score,mode)\n",
    "    questions_indeces=faq_logits[:,0].astype('int64').reshape((1,-1))\n",
    "    \n",
    "    if verbose:\n",
    "        print('Question: ',question)\n",
    "        print('---------------------')\n",
    "        questions=engine.faq[questions_indeces][0,:,0]\n",
    "        for i,faq_question in enumerate(questions):\n",
    "            print('index ',faq_logits[i,0],' score ', faq_logits[i,1],faq_question)\n",
    "    \n",
    "    n_clusters=2\n",
    "    if faq_logits.shape[0]>n_clusters:\n",
    "\n",
    "        clustering=cluster.KMeans(n_clusters)\n",
    "        #clustering = cluster.OPTICS(min_samples=3, xi=.05, min_cluster_size=.05)\n",
    "\n",
    "        db_clusters = clustering.fit_predict(faq_embs[questions_indeces][0])\n",
    "\n",
    "            \n",
    "        clusters_score=np.zeros((n_clusters))\n",
    "        clusters_size=np.zeros((n_clusters))\n",
    "        \n",
    "        for i,logit in enumerate(faq_logits):\n",
    "            index=db_clusters[i]\n",
    "            clusters_score[index]+=logit[1]\n",
    "            clusters_size[index]+=1\n",
    "        \n",
    "        clusters_mean_score=clusters_score/clusters_size\n",
    "        \n",
    "        max_score_index=0\n",
    "        max_score_val=0\n",
    "        \n",
    "        for i,cluster_val in enumerate(clusters_mean_score):\n",
    "            if cluster_val> max_score_val:\n",
    "                max_score_val=cluster_val\n",
    "                max_score_index=i\n",
    "        \n",
    "        true_faq_lofits=faq_logits[np.where(db_clusters==max_score_index)]\n",
    "        \n",
    "        if verbose:\n",
    "            print('\\nCleaned questions')\n",
    "            print('---------------------')\n",
    "            true_questions_indeces=true_faq_lofits[:,0].astype('int64').reshape((1,-1))\n",
    "            questions=engine.faq[true_questions_indeces][0,:,0]\n",
    "            for i,faq_question in enumerate(questions):\n",
    "                print('index ',faq_logits[i,0],' score ', faq_logits[i,1],faq_question)\n",
    "        \n",
    "        if plot:\n",
    "\n",
    "            umap_news=umap.UMAP()\n",
    "            question_emb=vectorizer(question).reshape(1,-1)\n",
    "            data=np.concatenate([faq_embs[questions_indeces][0],question_emb],axis=0)\n",
    "            umaped_vct=umap_news.fit_transform(data)\n",
    "            questions=engine.faq[questions_indeces][0,:,0]\n",
    "\n",
    "            myclr=ListedColormap(choice(list(sns.xkcd_rgb.values()), max(db_clusters)+1)) # Генерируем контрастную карту цветов.\n",
    "            print('количество кластеров ',max(db_clusters)+1)\n",
    "            N=15\n",
    "\n",
    "            fig, ax = plt.subplots(figsize=(N,N))\n",
    "\n",
    "            ax.scatter(umaped_vct[:-1, 0], umaped_vct[:-1, 1], s=300, c=db_clusters, cmap=myclr)\n",
    "            ax.scatter(umaped_vct[-1, 0], umaped_vct[-1, 1], s=600, c=1, cmap='rocket')\n",
    "            for i,xy in enumerate(umaped_vct[:-1]):\n",
    "                ax.text(xy[0], xy[1],'   '+str(faq_logits[i][1])+' ' +questions[i], fontsize=15,  color='black')\n",
    "\n",
    "            ax.text(umaped_vct[-1,0], umaped_vct[-1,1],'   Question: '+ question, fontsize=15,  color='black')\n",
    "            plt.show()\n",
    "    \n",
    "    "
   ]
  },
  {
   "cell_type": "code",
   "execution_count": 138,
   "metadata": {},
   "outputs": [
    {
     "name": "stdout",
     "output_type": "stream",
     "text": [
      "Question:  льгота  от расхода\n",
      "---------------------\n",
      "index  16.0  score  0.9035 Льгота 100 % от расхода\n",
      "index  14.0  score  0.8958 Льгота 50% от расхода\n",
      "index  15.0  score  0.7986 Льгота 50% (30%) от норматива\n",
      "\n",
      "Cleaned questions\n",
      "---------------------\n",
      "index  16.0  score  0.9035 Льгота 100 % от расхода\n",
      "index  14.0  score  0.8958 Льгота 50% от расхода\n"
     ]
    },
    {
     "name": "stderr",
     "output_type": "stream",
     "text": [
      "C:\\Anaconda\\envs\\torch\\lib\\site-packages\\umap\\umap_.py:2214: UserWarning: n_neighbors is larger than the dataset size; truncating to X.shape[0] - 1\n",
      "  \"n_neighbors is larger than the dataset size; truncating to \"\n"
     ]
    },
    {
     "name": "stdout",
     "output_type": "stream",
     "text": [
      "количество кластеров  2\n"
     ]
    },
    {
     "data": {
      "image/png": "[encoded data removed]",
      "text/plain": [
       "<Figure size 1080x1080 with 1 Axes>"
      ]
     },
     "metadata": {
      "needs_background": "light"
     },
     "output_type": "display_data"
    },
    {
     "name": "stdout",
     "output_type": "stream",
     "text": [
      "Wall time: 1.98 s\n"
     ]
    }
   ],
   "source": [
    "%%time\n",
    "noise=' пук кряк пиво интерал'\n",
    "noise2=' а то я не умею'\n",
    "question=faq['Question'][51] +noise2+noise\n",
    "#question='Как оформить льготу '\n",
    "question='льгота  от расхода'\n",
    "#question='Как будут осуществляться начисления если счетчик сломается'\n",
    "\n",
    "\n",
    "eps=0.15\n",
    "minimal_score=0.6\n",
    "beta=1.5\n",
    "\n",
    "modes=['fasttext','sbert']\n",
    "mode=modes[1]\n",
    "\n",
    "output=find_faq(engine,question,eps,minimal_score,mode=mode,verbose=True,plot=True)"
   ]
  },
  {
   "cell_type": "code",
   "execution_count": null,
   "metadata": {},
   "outputs": [],
   "source": [
    "def clean_question(vectorizer,question,pred_questions,min_score):\n",
    "    question_words=question.split()\n",
    "    question_words_embs=[vectorizer(word) for word in question_words]\n",
    "    \n",
    "    pred_question_words=[]\n",
    "    for pred_question in pred_questions:\n",
    "        words=pred_question.split()\n",
    "        pred_question_words=pred_question_words+words\n",
    "    \n",
    "    pred_question_words_embs=[vectorizer(word) for word in pred_question_words]\n",
    "    \n",
    "    dlt_inx=[]\n",
    "    \n",
    "    for i,question_word_emb in enumerate(question_words_embs):\n",
    "        word_score=0\n",
    "        for j,pred_question_word_emb in enumerate(pred_question_words_embs):\n",
    "            score=1-spatial.distance.cosine(question_word_emb, pred_question_word_emb)\n",
    "            if score > word_score:\n",
    "                word_score=score\n",
    "                \n",
    "        if word_score<min_score:\n",
    "            dlt_inx.append(i)\n",
    "            \n",
    "    for i in reversed(dlt_inx):\n",
    "        question_words.pop(i)\n",
    "    \n",
    "    return \" \".join(question_words)"
   ]
  },
  {
   "cell_type": "code",
   "execution_count": null,
   "metadata": {},
   "outputs": [],
   "source": [
    "questions=['Сборка простой люстры',\n",
    "'Сборка сложной люстры',\n",
    "'Установка простой люстры',\n",
    "'Установка сложной люстры',\n",
    "'Установка светильника типа Армстронг',\n",
    "'Установка светильника настенного, бра',\n",
    "'Установка точечного светильника',\n",
    "'Подключение светильника Выход',\n",
    "'Подключени трансформатора для галогенных ламп',\n",
    "'Установка антивандального светильника']\n"
   ]
  },
  {
   "cell_type": "code",
   "execution_count": null,
   "metadata": {},
   "outputs": [],
   "source": []
  },
  {
   "cell_type": "code",
   "execution_count": null,
   "metadata": {},
   "outputs": [],
   "source": [
    "q1=questions[:2]\n",
    "q1"
   ]
  },
  {
   "cell_type": "code",
   "execution_count": null,
   "metadata": {},
   "outputs": [],
   "source": [
    "q2=questions[4:7]\n",
    "q2_words=[]\n",
    "morph = pymorphy2.MorphAnalyzer()\n",
    "\n",
    "for q in q2:\n",
    "    words=q.split()\n",
    "    for word in words:\n",
    "        p = morph.parse(word)[0] \n",
    "        q2_words.append(p.normal_form)\n",
    "        \n",
    "q2_words=set(q2_words)\n",
    "q2"
   ]
  },
  {
   "cell_type": "code",
   "execution_count": null,
   "metadata": {},
   "outputs": [],
   "source": [
    "q2_words"
   ]
  },
  {
   "cell_type": "code",
   "execution_count": null,
   "metadata": {},
   "outputs": [],
   "source": [
    "\n",
    "\n",
    "word = \"светильником\"\n",
    "p = morph.parse(word)[0]  # Делаем полный разбор, и берем первый вариант разбора (условно \"самый вероятный\", но не факт что правильный)\n",
    "print(p.normal_form)  # стать"
   ]
  }
 ],
 "metadata": {
  "kernelspec": {
   "display_name": "torch",
   "language": "python",
   "name": "torch"
  },
  "language_info": {
   "codemirror_mode": {
    "name": "ipython",
    "version": 3
   },
   "file_extension": ".py",
   "mimetype": "text/x-python",
   "name": "python",
   "nbconvert_exporter": "python",
   "pygments_lexer": "ipython3",
   "version": "3.6.13"
  }
 },
 "nbformat": 4,
 "nbformat_minor": 4
}
